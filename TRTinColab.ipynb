{
  "nbformat": 4,
  "nbformat_minor": 0,
  "metadata": {
    "colab": {
      "name": "TRTinColab.ipynb",
      "private_outputs": true,
      "provenance": [],
      "collapsed_sections": [],
      "mount_file_id": "1rIWZVpZAm5qIWSkbZLIomGhnOyprBBC6",
      "authorship_tag": "ABX9TyMB6/8rKxLqzjptysbyo46n",
      "include_colab_link": true
    },
    "kernelspec": {
      "name": "python3",
      "display_name": "Python 3"
    },
    "language_info": {
      "name": "python"
    },
    "accelerator": "GPU"
  },
  "cells": [
    {
      "cell_type": "markdown",
      "metadata": {
        "id": "view-in-github",
        "colab_type": "text"
      },
      "source": [
        "<a href=\"https://colab.research.google.com/github/yester31/CPP_Codeing_Test/blob/main/TRTinColab.ipynb\" target=\"_parent\"><img src=\"https://colab.research.google.com/assets/colab-badge.svg\" alt=\"Open In Colab\"/></a>"
      ]
    },
    {
      "cell_type": "markdown",
      "source": [
        "Nvidia driver check"
      ],
      "metadata": {
        "id": "QCqwuAgil1gV"
      }
    },
    {
      "cell_type": "code",
      "execution_count": null,
      "metadata": {
        "id": "8m65ZVqTjw6s"
      },
      "outputs": [],
      "source": [
        "!nvidia-smi "
      ]
    },
    {
      "cell_type": "markdown",
      "source": [
        "CUDA version check"
      ],
      "metadata": {
        "id": "pyK8oNmlnmdz"
      }
    },
    {
      "cell_type": "code",
      "source": [
        "!nvcc -V"
      ],
      "metadata": {
        "id": "n55Ctnyakgmc"
      },
      "execution_count": null,
      "outputs": []
    },
    {
      "cell_type": "markdown",
      "source": [
        "OS version check"
      ],
      "metadata": {
        "id": "wBTmvrnDmAMZ"
      }
    },
    {
      "cell_type": "code",
      "source": [
        "!cat /etc/os-release"
      ],
      "metadata": {
        "id": "gZ3XbfVAlt79"
      },
      "execution_count": null,
      "outputs": []
    },
    {
      "cell_type": "code",
      "source": [
        "%%bash\n",
        "dpkg -i nvidia-machine-learning-repo-*.deb\n",
        "apt-get update"
      ],
      "metadata": {
        "id": "sSN8p-aPmDKR"
      },
      "execution_count": null,
      "outputs": []
    },
    {
      "cell_type": "code",
      "source": [
        "# check TensorRT version\n",
        "print(\"TensorRT version: \")\n",
        "!dpkg -l | grep nvinfer"
      ],
      "metadata": {
        "id": "M3JwY_32k6eS"
      },
      "execution_count": null,
      "outputs": []
    },
    {
      "cell_type": "markdown",
      "source": [
        "**TensorRT TEST**"
      ],
      "metadata": {
        "id": "pYQ2spVesohR"
      }
    },
    {
      "cell_type": "code",
      "source": [
        "!git clone https://github.com/yester31/Real_ESRGAN_TRT.git"
      ],
      "metadata": {
        "id": "9YrGwK7Co7Dk"
      },
      "execution_count": null,
      "outputs": []
    },
    {
      "cell_type": "code",
      "source": [
        "!git clone https://github.com/xinntao/Real-ESRGAN.git"
      ],
      "metadata": {
        "id": "cUU9FwS-pEBQ"
      },
      "execution_count": null,
      "outputs": []
    },
    {
      "cell_type": "code",
      "source": [
        "cd content/Real-ESRGAN/"
      ],
      "metadata": {
        "id": "55wxpZq1pepy"
      },
      "execution_count": null,
      "outputs": []
    },
    {
      "cell_type": "code",
      "source": [
        ""
      ],
      "metadata": {
        "id": "OywvCo-nssuD"
      },
      "execution_count": null,
      "outputs": []
    },
    {
      "cell_type": "code",
      "source": [
        "!pip install basicsr\n",
        "!pip install facexlib\n",
        "!pip install gfpgan\n",
        "!pip install -r requirements.txt"
      ],
      "metadata": {
        "id": "sV8vhR17qLbs"
      },
      "execution_count": null,
      "outputs": []
    },
    {
      "cell_type": "code",
      "source": [
        "!python setup.py develop"
      ],
      "metadata": {
        "id": "0a80_sD9qM4-"
      },
      "execution_count": null,
      "outputs": []
    },
    {
      "cell_type": "markdown",
      "source": [
        ""
      ],
      "metadata": {
        "id": "XSDbPjdhshj1"
      }
    },
    {
      "cell_type": "code",
      "source": [
        "!wget https://github.com/xinntao/Real-ESRGAN/releases/download/v0.1.0/RealESRGAN_x4plus.pth"
      ],
      "metadata": {
        "id": "Io5KBnFxqog7"
      },
      "execution_count": null,
      "outputs": []
    },
    {
      "cell_type": "code",
      "source": [
        "cp RealESRGAN_x4plus.pth experiments/pretrained_models"
      ],
      "metadata": {
        "id": "tipypfhqq71Q"
      },
      "execution_count": null,
      "outputs": []
    },
    {
      "cell_type": "code",
      "source": [
        "cd experiments"
      ],
      "metadata": {
        "id": "Fo68xyXZrHmd"
      },
      "execution_count": null,
      "outputs": []
    },
    {
      "cell_type": "code",
      "source": [
        "ls"
      ],
      "metadata": {
        "id": "rJTOCjUsrKFk"
      },
      "execution_count": null,
      "outputs": []
    },
    {
      "cell_type": "code",
      "source": [
        "cd /content"
      ],
      "metadata": {
        "id": "7hIw4v3BrNa4"
      },
      "execution_count": null,
      "outputs": []
    },
    {
      "cell_type": "code",
      "source": [
        "cp Real_ESRGAN_TRT/gen_wts.py Real-ESRGAN"
      ],
      "metadata": {
        "id": "YVmVWPz9rhxr"
      },
      "execution_count": null,
      "outputs": []
    },
    {
      "cell_type": "code",
      "source": [
        "cd Real-ESRGAN"
      ],
      "metadata": {
        "id": "bn2n1gjfr6ud"
      },
      "execution_count": null,
      "outputs": []
    },
    {
      "cell_type": "code",
      "source": [
        "ls"
      ],
      "metadata": {
        "id": "jfF6zIMlr-dN"
      },
      "execution_count": null,
      "outputs": []
    },
    {
      "cell_type": "code",
      "source": [
        "!python gen_wts.py"
      ],
      "metadata": {
        "id": "0uK_YudCsT9B"
      },
      "execution_count": null,
      "outputs": []
    },
    {
      "cell_type": "code",
      "source": [
        "ls"
      ],
      "metadata": {
        "id": "DZAm4cx1sw0A"
      },
      "execution_count": null,
      "outputs": []
    },
    {
      "cell_type": "code",
      "source": [
        "cd ../Real_ESRGAN_TRT"
      ],
      "metadata": {
        "id": "St4uyg5Ps09m"
      },
      "execution_count": null,
      "outputs": []
    },
    {
      "cell_type": "code",
      "source": [
        "mkdir build"
      ],
      "metadata": {
        "id": "2nXpvlqHtBYd"
      },
      "execution_count": null,
      "outputs": []
    },
    {
      "cell_type": "code",
      "source": [
        "cd build"
      ],
      "metadata": {
        "id": "doGJ_dwptE9X"
      },
      "execution_count": null,
      "outputs": []
    },
    {
      "cell_type": "code",
      "source": [
        "cp ../../Real-ESRGAN/real-esrgan.wts ."
      ],
      "metadata": {
        "id": "hc4qOU4gtI3R"
      },
      "execution_count": null,
      "outputs": []
    },
    {
      "cell_type": "code",
      "source": [
        "ls"
      ],
      "metadata": {
        "id": "w1SkuMjtte4W"
      },
      "execution_count": null,
      "outputs": []
    },
    {
      "cell_type": "code",
      "source": [
        "!cmake .."
      ],
      "metadata": {
        "id": "DRBVvf0ytglL"
      },
      "execution_count": null,
      "outputs": []
    },
    {
      "cell_type": "code",
      "source": [
        "!make"
      ],
      "metadata": {
        "id": "kqVdTmcGtmCA"
      },
      "execution_count": null,
      "outputs": []
    }
  ]
}